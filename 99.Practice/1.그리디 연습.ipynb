{
 "cells": [
  {
   "cell_type": "markdown",
   "id": "625dd71d",
   "metadata": {},
   "source": [
    "# Chapter 11 그리디"
   ]
  },
  {
   "cell_type": "code",
   "execution_count": 5,
   "id": "667e0519",
   "metadata": {},
   "outputs": [
    {
     "name": "stdout",
     "output_type": "stream",
     "text": [
      "5\n",
      "2 3 1 2 2\n",
      "2\n"
     ]
    }
   ],
   "source": [
    "# 정답 코드\n",
    "\n",
    "n = int(input())\n",
    "data = list(map(int, input().split()))\n",
    "data.sort()\n",
    "\n",
    "result = 0 # 총 그룹의 수\n",
    "count = 0 # 현재 그룹에 포함된 모험가의 수\n",
    "\n",
    "for i in data: # 공포도를 낮은 것부터 하나씩 확인하며\n",
    "    count += 1 # 현재 그룹에 해당 모험가를 포함시키기\n",
    "    if count >= i: # 현재 그룹에 포함된 모험가의 수가 현재의 공포도 이상이라면, 그룹 결성\n",
    "        result += 1 # 총 그룹의 수 증가시키기\n",
    "        count = 0 # 현재 그룹에 포함된 모험가의 수 초기화\n",
    "\n",
    "print(result) # 총 그룹의 수 출력"
   ]
  },
  {
   "cell_type": "markdown",
   "id": "318f27dd",
   "metadata": {},
   "source": [
    "# 코드 뜯어보기"
   ]
  },
  {
   "cell_type": "code",
   "execution_count": 1,
   "id": "edadbed0",
   "metadata": {},
   "outputs": [
    {
     "name": "stdout",
     "output_type": "stream",
     "text": [
      "5\n",
      "2 3 1 2 2\n"
     ]
    }
   ],
   "source": [
    "n = int(input())\n",
    "data = list(map(int, input().split()))\n",
    "data.sort()"
   ]
  },
  {
   "cell_type": "code",
   "execution_count": 2,
   "id": "300fa960",
   "metadata": {},
   "outputs": [
    {
     "data": {
      "text/plain": [
       "[1, 2, 2, 2, 3]"
      ]
     },
     "execution_count": 2,
     "metadata": {},
     "output_type": "execute_result"
    }
   ],
   "source": [
    "data"
   ]
  },
  {
   "cell_type": "code",
   "execution_count": 8,
   "id": "a8442af5",
   "metadata": {
    "scrolled": true
   },
   "outputs": [
    {
     "name": "stdout",
     "output_type": "stream",
     "text": [
      "모험가의 공포도 1 모험에 포함된 모험가 수 1\n",
      "\n",
      "1\n",
      "모험가의 공포도 2 모험에 포함된 모험가 수 1\n",
      "모험가의 공포도 2 모험에 포함된 모험가 수 2\n",
      "\n",
      "2\n",
      "모험가의 공포도 2 모험에 포함된 모험가 수 1\n",
      "모험가의 공포도 3 모험에 포함된 모험가 수 2\n",
      "2\n"
     ]
    }
   ],
   "source": [
    "result = 0 # 총 그룹의 수\n",
    "count = 0 # 현재 그룹에 포함된 모험가의 수\n",
    "\n",
    "for i in data:\n",
    "    count += 1 # 현재 그룹에 해당 모험가 포함\n",
    "    print('모험가의 공포도', i, \"모험에 포함된 모험가 수\",count)\n",
    "    if count >= i: #현재 그룹에 포험된 모험가의 수가 현재의 공포도이상이라면, 그룹 결성\n",
    "        result += 1\n",
    "        print()\n",
    "        print(result)\n",
    "        count = 0\n",
    "\n",
    "print(result)"
   ]
  },
  {
   "cell_type": "markdown",
   "id": "b423a688",
   "metadata": {},
   "source": [
    "# 다시 풀기 1회"
   ]
  },
  {
   "cell_type": "code",
   "execution_count": 11,
   "id": "eab5729d",
   "metadata": {},
   "outputs": [
    {
     "name": "stdout",
     "output_type": "stream",
     "text": [
      "5\n",
      "2 3 1 2 2\n"
     ]
    }
   ],
   "source": [
    "N = int(input())\n",
    "data = list(map(int, input().split()))"
   ]
  },
  {
   "cell_type": "code",
   "execution_count": 12,
   "id": "1da8abb1",
   "metadata": {},
   "outputs": [
    {
     "data": {
      "text/plain": [
       "[2, 3, 1, 2, 2]"
      ]
     },
     "execution_count": 12,
     "metadata": {},
     "output_type": "execute_result"
    }
   ],
   "source": [
    "data"
   ]
  },
  {
   "cell_type": "code",
   "execution_count": 13,
   "id": "b0e761d2",
   "metadata": {},
   "outputs": [],
   "source": [
    "data.sort()"
   ]
  },
  {
   "cell_type": "code",
   "execution_count": 14,
   "id": "37ac13d0",
   "metadata": {},
   "outputs": [
    {
     "data": {
      "text/plain": [
       "[1, 2, 2, 2, 3]"
      ]
     },
     "execution_count": 14,
     "metadata": {},
     "output_type": "execute_result"
    }
   ],
   "source": [
    "data"
   ]
  },
  {
   "cell_type": "code",
   "execution_count": null,
   "id": "9429987d",
   "metadata": {},
   "outputs": [],
   "source": [
    "count = 0\n",
    "result = 0\n",
    "\n",
    "for i in data:\n",
    "    count += 1\n",
    "    if count >= i:\n",
    "        resul"
   ]
  }
 ],
 "metadata": {
  "kernelspec": {
   "display_name": "Python 3 (ipykernel)",
   "language": "python",
   "name": "python3"
  },
  "language_info": {
   "codemirror_mode": {
    "name": "ipython",
    "version": 3
   },
   "file_extension": ".py",
   "mimetype": "text/x-python",
   "name": "python",
   "nbconvert_exporter": "python",
   "pygments_lexer": "ipython3",
   "version": "3.9.12"
  }
 },
 "nbformat": 4,
 "nbformat_minor": 5
}
