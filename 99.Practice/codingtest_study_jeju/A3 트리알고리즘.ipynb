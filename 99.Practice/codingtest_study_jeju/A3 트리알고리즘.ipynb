{
 "cells": [
  {
   "cell_type": "markdown",
   "id": "dfb3c256",
   "metadata": {},
   "source": [
    "## DFS Depth First Search (깊이 우선 탐색) - stack"
   ]
  },
  {
   "cell_type": "code",
   "execution_count": null,
   "id": "dcb8356c",
   "metadata": {},
   "outputs": [],
   "source": [
    "def 삽입(값, 노드) :\n",
    "    if 값 < 노드.값 :\n",
    "        \n",
    "        if 노드.왼쪽자식 is None :\n",
    "            노드.왼쪽자식 = TreeNode(값)\n",
    "        else :\n",
    "            삽입(값, 노드.왼쪽자식)\n",
    "    else 값 > 노드.값 :\n",
    "    \n",
    "        if 노드.오른쪽자식 is None :\n",
    "            노드.오른쪽자식 = TreeNode(값)\n",
    "        else :\n",
    "            삽입(값, 노드.오른쪽자식)"
   ]
  },
  {
   "cell_type": "code",
   "execution_count": null,
   "id": "8b38243c",
   "metadata": {},
   "outputs": [],
   "source": []
  },
  {
   "cell_type": "code",
   "execution_count": null,
   "id": "80471852",
   "metadata": {},
   "outputs": [],
   "source": []
  }
 ],
 "metadata": {
  "kernelspec": {
   "display_name": "Python 3 (ipykernel)",
   "language": "python",
   "name": "python3"
  },
  "language_info": {
   "codemirror_mode": {
    "name": "ipython",
    "version": 3
   },
   "file_extension": ".py",
   "mimetype": "text/x-python",
   "name": "python",
   "nbconvert_exporter": "python",
   "pygments_lexer": "ipython3",
   "version": "3.9.12"
  }
 },
 "nbformat": 4,
 "nbformat_minor": 5
}
