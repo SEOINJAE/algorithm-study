{
 "cells": [
  {
   "cell_type": "markdown",
   "id": "0df51cff",
   "metadata": {},
   "source": [
    "# 재귀함수\n",
    "- 내가 나를 호출하는 방법\n",
    "- 반복문 <-> 재귀함수"
   ]
  },
  {
   "cell_type": "markdown",
   "id": "7eeb5b4d",
   "metadata": {},
   "source": [
    "## 1부터 100까지의 합"
   ]
  },
  {
   "cell_type": "code",
   "execution_count": 12,
   "id": "e23b44f7",
   "metadata": {},
   "outputs": [
    {
     "name": "stdout",
     "output_type": "stream",
     "text": [
      "500000500000\n",
      "CPU times: user 143 ms, sys: 3.38 ms, total: 147 ms\n",
      "Wall time: 146 ms\n"
     ]
    }
   ],
   "source": [
    "%%time\n",
    "x= 0\n",
    "n= 1000000\n",
    "for i in range(1, n+1):\n",
    "    x += i\n",
    "\n",
    "print(x)"
   ]
  },
  {
   "cell_type": "code",
   "execution_count": 10,
   "id": "6f554268",
   "metadata": {},
   "outputs": [
    {
     "name": "stdout",
     "output_type": "stream",
     "text": [
      "120\n",
      "CPU times: user 773 µs, sys: 689 µs, total: 1.46 ms\n",
      "Wall time: 878 µs\n"
     ]
    }
   ],
   "source": [
    "%%time\n",
    "x= 1\n",
    "n= 5\n",
    "for i in range(1, n+1):\n",
    "    x *= i\n",
    "\n",
    "print(x)"
   ]
  },
  {
   "cell_type": "code",
   "execution_count": 13,
   "id": "cdd56480",
   "metadata": {},
   "outputs": [
    {
     "name": "stdout",
     "output_type": "stream",
     "text": [
      "500000500000\n",
      "CPU times: user 428 µs, sys: 257 µs, total: 685 µs\n",
      "Wall time: 512 µs\n"
     ]
    }
   ],
   "source": [
    "%%time\n",
    "# 시그마 공식 : n*(n+1)//2\n",
    "\n",
    "x = 0\n",
    "n = 1000000\n",
    "\n",
    "x = n*(n+1)//2\n",
    "print(x)"
   ]
  },
  {
   "cell_type": "markdown",
   "id": "d6b9a547",
   "metadata": {},
   "source": [
    "## 1부터 N까지의_합과 곱 재귀함수"
   ]
  },
  {
   "cell_type": "code",
   "execution_count": 15,
   "id": "4902dab4",
   "metadata": {},
   "outputs": [
    {
     "name": "stdout",
     "output_type": "stream",
     "text": [
      "15\n"
     ]
    }
   ],
   "source": [
    "def f(n):\n",
    "    if n <= 1:\n",
    "        return 1\n",
    "    else:\n",
    "        return n+f(n-1)\n",
    "\n",
    "n = 5\n",
    "print(f(n))"
   ]
  },
  {
   "cell_type": "code",
   "execution_count": 16,
   "id": "a86fedd2",
   "metadata": {},
   "outputs": [
    {
     "name": "stdout",
     "output_type": "stream",
     "text": [
      "120\n"
     ]
    }
   ],
   "source": [
    "def f(n):\n",
    "    if n <= 1:\n",
    "        return 1\n",
    "    else:\n",
    "        return n*f(n-1)\n",
    "\n",
    "n = 5\n",
    "print(f(n))"
   ]
  },
  {
   "cell_type": "code",
   "execution_count": 17,
   "id": "d4eab9ef",
   "metadata": {},
   "outputs": [
    {
     "name": "stdout",
     "output_type": "stream",
     "text": [
      "2진수로 바꿀 숫자를 입력하세요: 100\n",
      "1100100\n"
     ]
    }
   ],
   "source": [
    "x = int(input('2진수로 바꿀 숫자를 입력하세요: '))\n",
    "result = ''\n",
    "while True:\n",
    "    if x % 2 == 0: # 나머지\n",
    "        result += '0'\n",
    "    else:\n",
    "        result += '1'\n",
    "    x = x // 2 # 몫\n",
    "    if x == 1 or x == 0:\n",
    "        result += str(x)\n",
    "        print(result[::-1])\n",
    "        break"
   ]
  },
  {
   "cell_type": "code",
   "execution_count": 22,
   "id": "0ef8315b",
   "metadata": {},
   "outputs": [
    {
     "name": "stdout",
     "output_type": "stream",
     "text": [
      "1011\n"
     ]
    }
   ],
   "source": [
    "def 이진수구하기(입력값):\n",
    "    if 입력값 < 2:\n",
    "        return str(입력값)\n",
    "    else:\n",
    "        return str(이진수구하기(입력값//2)) + str(입력값%2)\n",
    "\n",
    "print(이진수구하기(11))"
   ]
  },
  {
   "cell_type": "code",
   "execution_count": 26,
   "id": "f7b3f4a2",
   "metadata": {},
   "outputs": [
    {
     "name": "stdout",
     "output_type": "stream",
     "text": [
      "o\n",
      "e\n",
      "s\n",
      "None\n"
     ]
    }
   ],
   "source": [
    "def 문자열뒤집기(문자열):\n",
    "    if 문자열 == '':\n",
    "        return None\n",
    "    else:\n",
    "        문자열뒤집기(문자열[1:])\n",
    "        print(문자열[0])\n",
    "\n",
    "print(문자열뒤집기('seo'))"
   ]
  },
  {
   "cell_type": "code",
   "execution_count": 27,
   "id": "28cff908",
   "metadata": {},
   "outputs": [
    {
     "name": "stdout",
     "output_type": "stream",
     "text": [
      "oes\n"
     ]
    }
   ],
   "source": [
    "result = ''\n",
    "for i in 'seo':\n",
    "    result= i + result\n",
    "print(result)"
   ]
  },
  {
   "cell_type": "code",
   "execution_count": 30,
   "id": "ec6ceb2c",
   "metadata": {},
   "outputs": [
    {
     "name": "stdout",
     "output_type": "stream",
     "text": [
      "8\n"
     ]
    }
   ],
   "source": [
    "x = 0\n",
    "for i in '2231':\n",
    "    x += int(i)\n",
    "\n",
    "print(x)"
   ]
  },
  {
   "cell_type": "code",
   "execution_count": 34,
   "id": "8a6714aa",
   "metadata": {},
   "outputs": [
    {
     "name": "stdout",
     "output_type": "stream",
     "text": [
      "8\n"
     ]
    }
   ],
   "source": [
    "def f(n):\n",
    "    if n == '':\n",
    "        return 0\n",
    "    else:\n",
    "        return int(n[0]) + int(f(n[1:]))\n",
    "        \n",
    "print(f('2231'))"
   ]
  },
  {
   "cell_type": "code",
   "execution_count": 39,
   "id": "b3ad5554",
   "metadata": {},
   "outputs": [
    {
     "ename": "SyntaxError",
     "evalue": "invalid syntax (1544122724.py, line 1)",
     "output_type": "error",
     "traceback": [
      "\u001b[0;36m  Input \u001b[0;32mIn [39]\u001b[0;36m\u001b[0m\n\u001b[0;31m    def helloworld()\u001b[0m\n\u001b[0m                    ^\u001b[0m\n\u001b[0;31mSyntaxError\u001b[0m\u001b[0;31m:\u001b[0m invalid syntax\n"
     ]
    }
   ],
   "source": [
    "def helloworld()\n",
    "    return helloworld()\n",
    "\n",
    "helloworld()"
   ]
  },
  {
   "cell_type": "code",
   "execution_count": 37,
   "id": "4a971606",
   "metadata": {},
   "outputs": [
    {
     "name": "stdout",
     "output_type": "stream",
     "text": [
      "10\n",
      "9\n",
      "8\n",
      "7\n",
      "6\n",
      "5\n",
      "4\n",
      "3\n",
      "2\n",
      "1\n",
      "끝!!\n"
     ]
    }
   ],
   "source": [
    "def 숫자세기(숫자):\n",
    "    if 숫자 <= 0:\n",
    "        print('끝!!')\n",
    "    else:\n",
    "        print(숫자)\n",
    "        숫자세기(숫자-1)\n",
    "숫자세기(10)"
   ]
  },
  {
   "cell_type": "markdown",
   "id": "d252660f",
   "metadata": {},
   "source": [
    "## 피보나치\n",
    "0 1 1 2 3 5 8 13 21"
   ]
  },
  {
   "cell_type": "code",
   "execution_count": 40,
   "id": "0fa8d56f",
   "metadata": {},
   "outputs": [
    {
     "name": "stdout",
     "output_type": "stream",
     "text": [
      "0\n",
      "1\n",
      "1\n",
      "2\n",
      "3\n",
      "5\n",
      "8\n",
      "13\n",
      "21\n",
      "34\n",
      "55\n"
     ]
    }
   ],
   "source": [
    "a = 0\n",
    "b = 1\n",
    "print(a)\n",
    "for i in range(10):\n",
    "    print(b)\n",
    "    a, b = b, a+b"
   ]
  },
  {
   "cell_type": "code",
   "execution_count": 44,
   "id": "29b9ffb2",
   "metadata": {},
   "outputs": [
    {
     "name": "stdout",
     "output_type": "stream",
     "text": [
      "8\n"
     ]
    }
   ],
   "source": [
    "#f(n+2) = f(n) + f(n+1)\n",
    "def 피보나치(숫자):\n",
    "    if 숫자 == 0 or 숫자 == 1:\n",
    "        return 1\n",
    "    return 피보나치(숫자-1) + 피보나치(숫자-2)\n",
    "\n",
    "print(피보나치(5))"
   ]
  },
  {
   "cell_type": "code",
   "execution_count": 45,
   "id": "7f95e372",
   "metadata": {},
   "outputs": [
    {
     "name": "stdout",
     "output_type": "stream",
     "text": [
      "1000\n"
     ]
    }
   ],
   "source": [
    "s = 0\n",
    "for i in [100, 200, 300, 400]:\n",
    "    s += i\n",
    "print(s)"
   ]
  },
  {
   "cell_type": "code",
   "execution_count": 47,
   "id": "438f2fed",
   "metadata": {},
   "outputs": [
    {
     "data": {
      "text/plain": [
       "1000"
      ]
     },
     "execution_count": 47,
     "metadata": {},
     "output_type": "execute_result"
    }
   ],
   "source": [
    "def s(l):\n",
    "    if len(l) == 1:\n",
    "        return l[0]\n",
    "    else:\n",
    "        return l[0] + s(l[1:])\n",
    "    \n",
    "s([100, 200, 300, 400])"
   ]
  },
  {
   "cell_type": "code",
   "execution_count": 48,
   "id": "7037b9fd",
   "metadata": {},
   "outputs": [
    {
     "name": "stdout",
     "output_type": "stream",
     "text": [
      "64\n",
      "64\n"
     ]
    }
   ],
   "source": [
    "print(2**6)\n",
    "\n",
    "result = 1\n",
    "for i in range(6):\n",
    "    result *= 2\n",
    "\n",
    "print(result)"
   ]
  },
  {
   "cell_type": "code",
   "execution_count": 49,
   "id": "b57fec8d",
   "metadata": {},
   "outputs": [
    {
     "name": "stdout",
     "output_type": "stream",
     "text": [
      "64\n"
     ]
    }
   ],
   "source": [
    "def f(n, e):\n",
    "    result = 1\n",
    "    for i in range(e):\n",
    "        result *= n\n",
    "    return result\n",
    "\n",
    "print(f(2, 6))"
   ]
  },
  {
   "cell_type": "code",
   "execution_count": 51,
   "id": "859e505b",
   "metadata": {},
   "outputs": [
    {
     "data": {
      "text/plain": [
       "64"
      ]
     },
     "execution_count": 51,
     "metadata": {},
     "output_type": "execute_result"
    }
   ],
   "source": [
    "def f(n, e):\n",
    "    if e == 1:\n",
    "        return n\n",
    "    else:\n",
    "        return n * f(n, e-1)\n",
    "\n",
    "f(2, 6)"
   ]
  },
  {
   "cell_type": "code",
   "execution_count": 56,
   "id": "dd596cd6",
   "metadata": {},
   "outputs": [
    {
     "data": {
      "text/plain": [
       "'10,000,000'"
      ]
     },
     "execution_count": 56,
     "metadata": {},
     "output_type": "execute_result"
    }
   ],
   "source": [
    "def comma(s):\n",
    "    if len(s) < 3:\n",
    "        return s\n",
    "    else:\n",
    "        return comma(s[:len(s)-3]) + ',' + s[len(s)-3:]\n",
    "\n",
    "comma('10000000')"
   ]
  },
  {
   "cell_type": "code",
   "execution_count": 58,
   "id": "d84ac186",
   "metadata": {},
   "outputs": [
    {
     "name": "stdout",
     "output_type": "stream",
     "text": [
      "10,000,000\n"
     ]
    }
   ],
   "source": [
    "n = 10000000\n",
    "n = format(n, ',')\n",
    "print(n)"
   ]
  },
  {
   "cell_type": "code",
   "execution_count": null,
   "id": "0806ff92",
   "metadata": {},
   "outputs": [],
   "source": []
  }
 ],
 "metadata": {
  "kernelspec": {
   "display_name": "Python 3 (ipykernel)",
   "language": "python",
   "name": "python3"
  },
  "language_info": {
   "codemirror_mode": {
    "name": "ipython",
    "version": 3
   },
   "file_extension": ".py",
   "mimetype": "text/x-python",
   "name": "python",
   "nbconvert_exporter": "python",
   "pygments_lexer": "ipython3",
   "version": "3.9.12"
  }
 },
 "nbformat": 4,
 "nbformat_minor": 5
}
