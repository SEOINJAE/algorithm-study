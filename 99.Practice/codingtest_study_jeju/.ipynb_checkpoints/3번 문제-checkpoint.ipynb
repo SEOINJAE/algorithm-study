{
 "cells": [
  {
   "cell_type": "code",
   "execution_count": 3,
   "id": "e9d39497",
   "metadata": {},
   "outputs": [],
   "source": [
    "import datetime\n",
    "\n",
    "오늘시간 = datetime.datetime.today()\n",
    "\n",
    "#입력\n",
    "대기인원 = 14000605\n",
    "\n",
    "# 출력\n",
    "# 2025년 2월 413일 11시 0분 출발"
   ]
  },
  {
   "cell_type": "code",
   "execution_count": 4,
   "id": "0fd58d83",
   "metadata": {},
   "outputs": [
    {
     "data": {
      "text/plain": [
       "datetime.datetime(2023, 4, 12, 22, 52, 12, 787344)"
      ]
     },
     "execution_count": 4,
     "metadata": {},
     "output_type": "execute_result"
    }
   ],
   "source": [
    "오늘시간"
   ]
  },
  {
   "cell_type": "code",
   "execution_count": 5,
   "id": "c7fb346d",
   "metadata": {},
   "outputs": [
    {
     "data": {
      "text/plain": [
       "52"
      ]
     },
     "execution_count": 5,
     "metadata": {},
     "output_type": "execute_result"
    }
   ],
   "source": [
    "오늘시간.minute"
   ]
  },
  {
   "cell_type": "code",
   "execution_count": 30,
   "id": "334460a0",
   "metadata": {},
   "outputs": [
    {
     "data": {
      "text/plain": [
       "1200"
      ]
     },
     "execution_count": 30,
     "metadata": {},
     "output_type": "execute_result"
    }
   ],
   "source": [
    "한시간에배에탈수있는인원 = 100\n",
    "하루에배에탈수있는인원 = 한시간에배에탈수있는인원*(21-9)\n",
    "하루에배에탈수있는인원"
   ]
  },
  {
   "cell_type": "code",
   "execution_count": 37,
   "id": "b94fd29c",
   "metadata": {},
   "outputs": [],
   "source": [
    "def solution(대기인원):\n",
    "    # 몇년이 걸릴지 계산\n",
    "    일년일수 = 0\n",
    "    for i in range(10, 0, -1):\n",
    "        일년일수 += 2**i\n",
    "    년 = (대기인원 // 1200) // 일년일수\n",
    "    남은일수 = (대기인원 // 1200) % 일년일수\n",
    "    \n",
    "    월별일수누적값 = 0\n",
    "    월 = 0\n",
    "    for i in range(10, 0, -1):\n",
    "        차감일 = 월별일수누적값\n",
    "        월별일수누적값 += 2**i\n",
    "        월 += 1\n",
    "        if 월별일수누적값 > 남은일수:\n",
    "            break\n",
    "      \n",
    "    일 = 남은일수 - 차감일\n",
    "    최종남은인원 = 대기인원 % 1200\n",
    "    시 = 최종남은인원 // 100+9\n",
    "    \n",
    "    출발분 = [25, 40, 55, 70, 85, 100]\n",
    "    해당시간에남은인원 = 최종남은인원 % 100 + 1\n",
    "    for i in 출발분:\n",
    "        if i > 해당시간에남은인원:\n",
    "            분 = 출발분.index(i)*10\n",
    "            break\n",
    "    if 최종남은인원 % 100 == 99:\n",
    "        시 += 1\n",
    "        분 = 0\n",
    "    if(오늘시간.minute+분 > 60):\n",
    "        분 = (오늘시간.minute + 분) - 60\n",
    "        시 +=1\n",
    "    print(남은일수)"
   ]
  },
  {
   "cell_type": "code",
   "execution_count": 38,
   "id": "0f0f61a6",
   "metadata": {},
   "outputs": [
    {
     "name": "stdout",
     "output_type": "stream",
     "text": [
      "1437\n"
     ]
    }
   ],
   "source": [
    "solution(대기인원)"
   ]
  },
  {
   "cell_type": "code",
   "execution_count": 39,
   "id": "eb1437f1",
   "metadata": {},
   "outputs": [
    {
     "ename": "NameError",
     "evalue": "name '분' is not defined",
     "output_type": "error",
     "traceback": [
      "\u001b[0;31m---------------------------------------------------------------------------\u001b[0m",
      "\u001b[0;31mNameError\u001b[0m                                 Traceback (most recent call last)",
      "Cell \u001b[0;32mIn[39], line 1\u001b[0m\n\u001b[0;32m----> 1\u001b[0m 오늘시간\u001b[38;5;241m.\u001b[39mminute\u001b[38;5;241m+\u001b[39m\u001b[43m분\u001b[49m\n",
      "\u001b[0;31mNameError\u001b[0m: name '분' is not defined"
     ]
    }
   ],
   "source": [
    "오늘시간.minute+분"
   ]
  },
  {
   "cell_type": "code",
   "execution_count": null,
   "id": "5ba5606f",
   "metadata": {},
   "outputs": [],
   "source": []
  }
 ],
 "metadata": {
  "kernelspec": {
   "display_name": "Python 3 (ipykernel)",
   "language": "python",
   "name": "python3"
  },
  "language_info": {
   "codemirror_mode": {
    "name": "ipython",
    "version": 3
   },
   "file_extension": ".py",
   "mimetype": "text/x-python",
   "name": "python",
   "nbconvert_exporter": "python",
   "pygments_lexer": "ipython3",
   "version": "3.10.9"
  }
 },
 "nbformat": 4,
 "nbformat_minor": 5
}
