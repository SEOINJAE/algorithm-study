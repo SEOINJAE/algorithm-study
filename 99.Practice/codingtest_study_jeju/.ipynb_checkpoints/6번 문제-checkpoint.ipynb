{
 "cells": [
  {
   "cell_type": "code",
   "execution_count": 1,
   "id": "da4f7014",
   "metadata": {},
   "outputs": [],
   "source": [
    "import numpy as np"
   ]
  },
  {
   "cell_type": "code",
   "execution_count": 2,
   "id": "c75aed61",
   "metadata": {},
   "outputs": [],
   "source": [
    "첫번째밭 = [\n",
    "    [1, 0, 0, 0, 0],\n",
    "    [0, 0, 1, 0, 1],\n",
    "    [0, 0, 1, 0, 1],\n",
    "    [0, 0, 1, 0, 1],\n",
    "    [0, 0, 1, 0, 1]\n",
    "]\n",
    "\n",
    "두번째밭 = [\n",
    "    [0, 0, 0, 0, 1],\n",
    "    [0, 0, 0, 0, 3],\n",
    "    [0, 0, 0, 0, 4],\n",
    "    [0, 2, 0, 0, 2],\n",
    "    [4, 5, 0, 2, 0]\n",
    "]"
   ]
  },
  {
   "cell_type": "code",
   "execution_count": 3,
   "id": "2adfb36d",
   "metadata": {},
   "outputs": [
    {
     "data": {
      "text/plain": [
       "[[1, 0, 0, 0, 0],\n",
       " [0, 0, 1, 0, 1],\n",
       " [0, 0, 1, 0, 1],\n",
       " [0, 0, 1, 0, 1],\n",
       " [0, 0, 1, 0, 1]]"
      ]
     },
     "execution_count": 3,
     "metadata": {},
     "output_type": "execute_result"
    }
   ],
   "source": [
    "첫번째밭"
   ]
  },
  {
   "cell_type": "code",
   "execution_count": 4,
   "id": "4fc0f95a",
   "metadata": {},
   "outputs": [
    {
     "data": {
      "text/plain": [
       "[[0, 0, 0, 0, 1],\n",
       " [0, 0, 0, 0, 3],\n",
       " [0, 0, 0, 0, 4],\n",
       " [0, 2, 0, 0, 2],\n",
       " [4, 5, 0, 2, 0]]"
      ]
     },
     "execution_count": 4,
     "metadata": {},
     "output_type": "execute_result"
    }
   ],
   "source": [
    "두번째밭"
   ]
  },
  {
   "cell_type": "code",
   "execution_count": 5,
   "id": "1214574a",
   "metadata": {},
   "outputs": [
    {
     "data": {
      "text/plain": [
       "array([[1, 3, 4, 2, 0],\n",
       "       [0, 0, 0, 0, 2],\n",
       "       [0, 0, 0, 0, 0],\n",
       "       [0, 0, 0, 2, 5],\n",
       "       [0, 0, 0, 0, 4]])"
      ]
     },
     "execution_count": 5,
     "metadata": {},
     "output_type": "execute_result"
    }
   ],
   "source": [
    "# 시계방향으로 돌리고 싶으면 -1\n",
    "np.rot90(두번째밭, 1)"
   ]
  },
  {
   "cell_type": "code",
   "execution_count": 6,
   "id": "722444a0",
   "metadata": {},
   "outputs": [
    {
     "data": {
      "text/plain": [
       "array([[2, 3, 4, 2, 0],\n",
       "       [0, 0, 1, 0, 3],\n",
       "       [0, 0, 1, 0, 1],\n",
       "       [0, 0, 1, 2, 6],\n",
       "       [0, 0, 1, 0, 5]])"
      ]
     },
     "execution_count": 6,
     "metadata": {},
     "output_type": "execute_result"
    }
   ],
   "source": [
    "np.rot90(두번째밭, 1) + np.array(첫번째밭)"
   ]
  },
  {
   "cell_type": "code",
   "execution_count": 7,
   "id": "15530124",
   "metadata": {},
   "outputs": [
    {
     "data": {
      "text/plain": [
       "array([[ 0,  3,  4,  2,  0],\n",
       "       [ 0,  0, -1,  0,  1],\n",
       "       [ 0,  0, -1,  0, -1],\n",
       "       [ 0,  0, -1,  2,  4],\n",
       "       [ 0,  0, -1,  0,  3]])"
      ]
     },
     "execution_count": 7,
     "metadata": {},
     "output_type": "execute_result"
    }
   ],
   "source": [
    "np.rot90(두번째밭, 1) - np.array(첫번째밭)"
   ]
  },
  {
   "cell_type": "code",
   "execution_count": 8,
   "id": "4729ec95",
   "metadata": {},
   "outputs": [
    {
     "data": {
      "text/plain": [
       "array([[1, 0, 0, 0, 0],\n",
       "       [0, 0, 0, 0, 2],\n",
       "       [0, 0, 0, 0, 0],\n",
       "       [0, 0, 0, 0, 5],\n",
       "       [0, 0, 0, 0, 4]])"
      ]
     },
     "execution_count": 8,
     "metadata": {},
     "output_type": "execute_result"
    }
   ],
   "source": [
    "np.rot90(두번째밭, 1) * np.array(첫번째밭)"
   ]
  },
  {
   "cell_type": "code",
   "execution_count": 10,
   "id": "a01f1dac",
   "metadata": {},
   "outputs": [
    {
     "data": {
      "text/plain": [
       "array([[1, 0, 9, 0, 9],\n",
       "       [0, 0, 2, 0, 2],\n",
       "       [0, 0, 0, 0, 0],\n",
       "       [0, 0, 7, 0, 7],\n",
       "       [0, 0, 4, 0, 4]])"
      ]
     },
     "execution_count": 10,
     "metadata": {},
     "output_type": "execute_result"
    }
   ],
   "source": [
    "np.rot90(두번째밭, 1) @ np.array(첫번째밭)"
   ]
  },
  {
   "cell_type": "code",
   "execution_count": 11,
   "id": "13f9b418",
   "metadata": {},
   "outputs": [],
   "source": [
    "정답 = np.rot90(두번째밭, 1) + np.array(첫번째밭)"
   ]
  },
  {
   "cell_type": "code",
   "execution_count": 15,
   "id": "2e4013ed",
   "metadata": {},
   "outputs": [
    {
     "data": {
      "text/plain": [
       "array([[2, 3, 4, 2, 0],\n",
       "       [0, 0, 1, 0, 3],\n",
       "       [0, 0, 1, 0, 1],\n",
       "       [0, 0, 1, 2, 6],\n",
       "       [0, 0, 1, 0, 5]])"
      ]
     },
     "execution_count": 15,
     "metadata": {},
     "output_type": "execute_result"
    }
   ],
   "source": [
    "정답"
   ]
  },
  {
   "cell_type": "code",
   "execution_count": 14,
   "id": "a6501b1f",
   "metadata": {},
   "outputs": [
    {
     "data": {
      "text/plain": [
       "array([2, 3, 4, 2, 0])"
      ]
     },
     "execution_count": 14,
     "metadata": {},
     "output_type": "execute_result"
    }
   ],
   "source": [
    "정답[0]"
   ]
  },
  {
   "cell_type": "code",
   "execution_count": 13,
   "id": "d7a6458f",
   "metadata": {},
   "outputs": [
    {
     "data": {
      "text/plain": [
       "[2, 3, 4, 2, 0]"
      ]
     },
     "execution_count": 13,
     "metadata": {},
     "output_type": "execute_result"
    }
   ],
   "source": [
    "[i for i in 정답[0]]"
   ]
  },
  {
   "cell_type": "code",
   "execution_count": 18,
   "id": "21838490",
   "metadata": {},
   "outputs": [
    {
     "data": {
      "text/plain": [
       "'23420'"
      ]
     },
     "execution_count": 18,
     "metadata": {},
     "output_type": "execute_result"
    }
   ],
   "source": [
    "''.join([str(i) for i in 정답[0]])"
   ]
  },
  {
   "cell_type": "code",
   "execution_count": 21,
   "id": "62adc654",
   "metadata": {},
   "outputs": [
    {
     "data": {
      "text/plain": [
       "10000"
      ]
     },
     "execution_count": 21,
     "metadata": {},
     "output_type": "execute_result"
    }
   ],
   "source": [
    "int(''.join([str(i) for i in 정답[0]]),8)"
   ]
  },
  {
   "cell_type": "code",
   "execution_count": 26,
   "id": "dce63176",
   "metadata": {},
   "outputs": [
    {
     "name": "stdout",
     "output_type": "stream",
     "text": [
      "✐\n",
      "C\n",
      "A\n",
      "V\n",
      "E\n"
     ]
    }
   ],
   "source": [
    "for k in range(5):\n",
    "    print(chr(int(''.join([str(i) for i in 정답[k]]),8)))"
   ]
  },
  {
   "cell_type": "markdown",
   "id": "02e33827",
   "metadata": {},
   "source": [
    "# numpy 없이 풀기"
   ]
  },
  {
   "cell_type": "code",
   "execution_count": 35,
   "id": "bc2700a3",
   "metadata": {},
   "outputs": [],
   "source": [
    "sample = [\n",
    "    [0, 0, 0, 0, 0],\n",
    "    [0, 0, 0, 0, 0],\n",
    "    [0, 0, 0, 0, 0],\n",
    "    [0, 0, 0, 0, 0],\n",
    "    [0, 0, 0, 0, 0]\n",
    "]\n",
    "\n",
    "첫번째밭 = [\n",
    "    [1, 0, 0, 0, 0],\n",
    "    [0, 0, 1, 0, 1],\n",
    "    [0, 0, 1, 0, 1],\n",
    "    [0, 0, 1, 0, 1],\n",
    "    [0, 0, 1, 0, 1]\n",
    "]\n",
    "\n",
    "두번째밭 = [\n",
    "    [0, 0, 0, 0, 1],\n",
    "    [0, 0, 0, 0, 3],\n",
    "    [0, 0, 0, 0, 4],\n",
    "    [0, 2, 0, 0, 2],\n",
    "    [4, 5, 0, 2, 0]\n",
    "]"
   ]
  },
  {
   "cell_type": "code",
   "execution_count": 33,
   "id": "c4286397",
   "metadata": {},
   "outputs": [
    {
     "data": {
      "text/plain": [
       "[[None, None, None, None, None],\n",
       " [None, None, None, None, None],\n",
       " [None, None, None, None, None],\n",
       " [None, None, None, None, None],\n",
       " [None, None, None, None, None]]"
      ]
     },
     "execution_count": 33,
     "metadata": {},
     "output_type": "execute_result"
    }
   ],
   "source": [
    "x = [[None]*5]*5\n",
    "x"
   ]
  },
  {
   "cell_type": "code",
   "execution_count": 34,
   "id": "00af0c01",
   "metadata": {},
   "outputs": [
    {
     "data": {
      "text/plain": [
       "[[1000, None, None, None, None],\n",
       " [1000, None, None, None, None],\n",
       " [1000, None, None, None, None],\n",
       " [1000, None, None, None, None],\n",
       " [1000, None, None, None, None]]"
      ]
     },
     "execution_count": 34,
     "metadata": {},
     "output_type": "execute_result"
    }
   ],
   "source": [
    "x[0][0] = 1000\n",
    "x"
   ]
  },
  {
   "cell_type": "code",
   "execution_count": 36,
   "id": "1e6e0c87",
   "metadata": {},
   "outputs": [
    {
     "data": {
      "text/plain": [
       "[[0, 0, 0, 0, 0],\n",
       " [0, 0, 0, 0, 0],\n",
       " [0, 0, 0, 0, 0],\n",
       " [0, 0, 0, 0, 0],\n",
       " [0, 0, 0, 0, 0]]"
      ]
     },
     "execution_count": 36,
     "metadata": {},
     "output_type": "execute_result"
    }
   ],
   "source": [
    "sample"
   ]
  },
  {
   "cell_type": "code",
   "execution_count": 39,
   "id": "2ee3cfc5",
   "metadata": {},
   "outputs": [
    {
     "data": {
      "text/plain": [
       "[[0, 0, 0, 0, 1],\n",
       " [0, 0, 0, 0, 3],\n",
       " [0, 0, 0, 0, 4],\n",
       " [0, 2, 0, 0, 2],\n",
       " [4, 5, 0, 2, 0]]"
      ]
     },
     "execution_count": 39,
     "metadata": {},
     "output_type": "execute_result"
    }
   ],
   "source": [
    "두번째밭"
   ]
  },
  {
   "cell_type": "code",
   "execution_count": 50,
   "id": "42293166",
   "metadata": {},
   "outputs": [
    {
     "data": {
      "text/plain": [
       "[[1, 3, 4, 2, 0],\n",
       " [0, 0, 0, 0, 2],\n",
       " [0, 0, 0, 0, 0],\n",
       " [0, 0, 0, 2, 5],\n",
       " [0, 0, 0, 0, 4]]"
      ]
     },
     "execution_count": 50,
     "metadata": {},
     "output_type": "execute_result"
    }
   ],
   "source": [
    "for i in range(len(두번째밭)): #행\n",
    "    for j in range(len(두번째밭[0])):\n",
    "        sample[i][j] = 두번째밭[j][len(두번째밭)-1-i]\n",
    "        \n",
    "sample"
   ]
  },
  {
   "cell_type": "code",
   "execution_count": 57,
   "id": "cce8bb7f",
   "metadata": {},
   "outputs": [
    {
     "data": {
      "text/plain": [
       "[[1, 3, 4, 2, 0],\n",
       " [0, 0, 0, 0, 2],\n",
       " [0, 0, 0, 0, 0],\n",
       " [0, 0, 0, 2, 5],\n",
       " [0, 0, 0, 0, 4],\n",
       " [1, 0, 0, 0, 0],\n",
       " [0, 0, 1, 0, 1],\n",
       " [0, 0, 1, 0, 1],\n",
       " [0, 0, 1, 0, 1],\n",
       " [0, 0, 1, 0, 1]]"
      ]
     },
     "execution_count": 57,
     "metadata": {},
     "output_type": "execute_result"
    }
   ],
   "source": [
    "sample + 첫번째밭"
   ]
  },
  {
   "cell_type": "code",
   "execution_count": 59,
   "id": "9163e225",
   "metadata": {},
   "outputs": [
    {
     "data": {
      "text/plain": [
       "[[2, 3, 4, 2, 0],\n",
       " [0, 0, 1, 0, 3],\n",
       " [0, 0, 1, 0, 1],\n",
       " [0, 0, 1, 2, 6],\n",
       " [0, 0, 1, 0, 5]]"
      ]
     },
     "execution_count": 59,
     "metadata": {},
     "output_type": "execute_result"
    }
   ],
   "source": [
    "for i in range(len(두번째밭)):\n",
    "    for j in range(len(두번째밭[0])):\n",
    "        sample[i][j] += 첫번째밭[i][j]\n",
    "        \n",
    "sample"
   ]
  },
  {
   "cell_type": "code",
   "execution_count": null,
   "id": "693b2bb7",
   "metadata": {},
   "outputs": [],
   "source": []
  },
  {
   "cell_type": "code",
   "execution_count": null,
   "id": "cfd9b1e9",
   "metadata": {},
   "outputs": [],
   "source": []
  },
  {
   "cell_type": "code",
   "execution_count": null,
   "id": "5919b126",
   "metadata": {},
   "outputs": [],
   "source": []
  }
 ],
 "metadata": {
  "kernelspec": {
   "display_name": "Python 3 (ipykernel)",
   "language": "python",
   "name": "python3"
  },
  "language_info": {
   "codemirror_mode": {
    "name": "ipython",
    "version": 3
   },
   "file_extension": ".py",
   "mimetype": "text/x-python",
   "name": "python",
   "nbconvert_exporter": "python",
   "pygments_lexer": "ipython3",
   "version": "3.9.12"
  }
 },
 "nbformat": 4,
 "nbformat_minor": 5
}
