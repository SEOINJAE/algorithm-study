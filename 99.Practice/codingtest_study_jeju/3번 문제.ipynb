{
 "cells": [
  {
   "cell_type": "code",
   "execution_count": 1,
   "id": "fc1cc805",
   "metadata": {},
   "outputs": [],
   "source": [
    "import datetime\n",
    "\n",
    "오늘시간 = datetime.datetime.today()\n",
    "\n",
    "#입력\n",
    "대기인원 = 14000605\n",
    "대기인원2 = 1200202\n",
    "\n",
    "# 출력\n",
    "# 2025년 2월 413일 11시 0분 출발"
   ]
  },
  {
   "cell_type": "code",
   "execution_count": 2,
   "id": "806918a3",
   "metadata": {
    "scrolled": true
   },
   "outputs": [
    {
     "data": {
      "text/plain": [
       "datetime.datetime(2023, 4, 13, 0, 3, 11, 619082)"
      ]
     },
     "execution_count": 2,
     "metadata": {},
     "output_type": "execute_result"
    }
   ],
   "source": [
    "오늘시간"
   ]
  },
  {
   "cell_type": "code",
   "execution_count": 3,
   "id": "b3602190",
   "metadata": {},
   "outputs": [
    {
     "data": {
      "text/plain": [
       "1200"
      ]
     },
     "execution_count": 3,
     "metadata": {},
     "output_type": "execute_result"
    }
   ],
   "source": [
    "한시간에배에탈수있는인원 = 100\n",
    "하루에배에탈수있는인원 = 한시간에배에탈수있는인원*(21-9)\n",
    "하루에배에탈수있는인원"
   ]
  },
  {
   "cell_type": "code",
   "execution_count": 4,
   "id": "9cdbaa9a",
   "metadata": {},
   "outputs": [],
   "source": [
    "def solution(대기인원):\n",
    "    # 몇년이 걸릴지 계산\n",
    "    일년일수 = 0\n",
    "    for i in range(10, 0, -1):\n",
    "        일년일수 += 2**i\n",
    "    년 = (대기인원 // 1200) // 일년일수\n",
    "    남은일수 = (대기인원 // 1200) % 일년일수\n",
    "    \n",
    "    #일 계산\n",
    "    월별일수누적값 = 0\n",
    "    월 = 0\n",
    "    for i in range(10, 0, -1):\n",
    "        차감일 = 월별일수누적값\n",
    "        월별일수누적값 += 2**i\n",
    "        월 += 1\n",
    "        if 월별일수누적값 > 남은일수:\n",
    "            break\n",
    "      \n",
    "    일 = 남은일수 - 차감일\n",
    "    \n",
    "    #시 계산\n",
    "    최종남은인원 = 대기인원 % 1200\n",
    "    시 = 최종남은인원 // 100+9\n",
    "    \n",
    "    # 출발 분\n",
    "    출발분 = [25, 40, 55, 70, 85, 100]\n",
    "    해당시간에남은인원 = 최종남은인원 % 100 + 1\n",
    "    for i in 출발분:\n",
    "        if i > 해당시간에남은인원:\n",
    "            분 = 출발분.index(i)*10\n",
    "            break\n",
    "    \n",
    "    #두명이 동시에 타야하는 경우의 수 해결\n",
    "    if 최종남은인원 % 100 == 99:\n",
    "        시 += 1\n",
    "        분 = 0\n",
    "        \n",
    "    #배아파서 화장실간 시간 계산   \n",
    "    if(오늘시간.minute+분 > 60):\n",
    "        분 = (오늘시간.minute + 분) - 60\n",
    "        시 +=1\n",
    "    return f'{년+2020}년 {월}월 {일}일 {시}시 {분}분 출발'"
   ]
  },
  {
   "cell_type": "code",
   "execution_count": 5,
   "id": "6e6f860c",
   "metadata": {},
   "outputs": [
    {
     "data": {
      "text/plain": [
       "'2025년 2월 413일 11시 0분 출발'"
      ]
     },
     "execution_count": 5,
     "metadata": {},
     "output_type": "execute_result"
    }
   ],
   "source": [
    "solution(대기인원)"
   ]
  },
  {
   "cell_type": "code",
   "execution_count": 6,
   "id": "6e88155d",
   "metadata": {},
   "outputs": [
    {
     "data": {
      "text/plain": [
       "'2020년 1월 1000일 11시 0분 출발'"
      ]
     },
     "execution_count": 6,
     "metadata": {},
     "output_type": "execute_result"
    }
   ],
   "source": [
    "solution(대기인원2)"
   ]
  },
  {
   "cell_type": "code",
   "execution_count": null,
   "id": "fd9d014e",
   "metadata": {},
   "outputs": [],
   "source": []
  }
 ],
 "metadata": {
  "kernelspec": {
   "display_name": "Python 3 (ipykernel)",
   "language": "python",
   "name": "python3"
  },
  "language_info": {
   "codemirror_mode": {
    "name": "ipython",
    "version": 3
   },
   "file_extension": ".py",
   "mimetype": "text/x-python",
   "name": "python",
   "nbconvert_exporter": "python",
   "pygments_lexer": "ipython3",
   "version": "3.10.9"
  }
 },
 "nbformat": 4,
 "nbformat_minor": 5
}
