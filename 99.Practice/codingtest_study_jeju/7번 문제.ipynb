{
 "cells": [
  {
   "cell_type": "code",
   "execution_count": 1,
   "id": "8456e66d",
   "metadata": {},
   "outputs": [],
   "source": [
    "cross = [[[1, 5, 0, 1, 0],\n",
    "\t\t\t \t  [0, 1, 6, 7, 0],\n",
    "\t\t\t\t  [6, 2, 3, 2, 1],\n",
    "\t\t\t\t  [1, 0, 1, 1, 1],\n",
    "\t\t\t\t  [0, 2, 0, 1, 0]],\n",
    "         [[0, 3, 0, 1, 0],\n",
    "\t\t\t \t  [1, 2, 5, 4, 4],\n",
    "\t\t\t\t  [0, 0, 3, 0, 0],\n",
    "\t\t\t\t  [1, 2, 5, 0, 1],\n",
    "\t\t\t\t  [0, 0, 0, 0, 0]],\n",
    "\t\t\t\t [[3, 0, 1, 1, 8],\n",
    "\t\t\t \t  [5, 0, 4, 5, 4],\n",
    "\t\t\t\t  [1, 5, 0, 5, 1],\n",
    "\t\t\t\t  [1, 2, 1, 0, 1],\n",
    "\t\t\t\t  [0, 2, 5, 1, 1]],\n",
    "\t\t\t\t [[1, 0, 3, 3, 3],\n",
    "\t\t\t \t  [5, 1, 2, 2, 4],\n",
    "\t\t\t\t  [1, 5, 1, 2, 4],\n",
    "\t\t\t\t  [4, 4, 1, 1, 1],\n",
    "\t\t\t\t  [4, 4, 1, 1, 1]],\n",
    "\t\t\t\t [[1, 2, 0, 3, 3],\n",
    "\t\t\t \t  [1, 2, 0, 2, 4],\n",
    "\t\t\t\t  [1, 2, 0, 2, 4],\n",
    "\t\t\t\t  [4, 2, 0, 0, 1],\n",
    "\t\t\t\t  [8, 4, 1, 1, 0]],\n",
    "\t\t\t\t [[1, 0, 3, 0, 0],\n",
    "\t\t\t \t  [1, 1, 0, 2, 4],\n",
    "\t\t\t\t  [0, 0, 1, 2, 4],\n",
    "\t\t\t\t  [4, 0, 1, 0, 1],\n",
    "\t\t\t\t  [0, 0, 1, 0, 1]]]"
   ]
  },
  {
   "cell_type": "code",
   "execution_count": 2,
   "id": "9020c254",
   "metadata": {},
   "outputs": [
    {
     "data": {
      "text/plain": [
       "[[[1, 5, 0, 1, 0],\n",
       "  [0, 1, 6, 7, 0],\n",
       "  [6, 2, 3, 2, 1],\n",
       "  [1, 0, 1, 1, 1],\n",
       "  [0, 2, 0, 1, 0]],\n",
       " [[0, 3, 0, 1, 0],\n",
       "  [1, 2, 5, 4, 4],\n",
       "  [0, 0, 3, 0, 0],\n",
       "  [1, 2, 5, 0, 1],\n",
       "  [0, 0, 0, 0, 0]],\n",
       " [[3, 0, 1, 1, 8],\n",
       "  [5, 0, 4, 5, 4],\n",
       "  [1, 5, 0, 5, 1],\n",
       "  [1, 2, 1, 0, 1],\n",
       "  [0, 2, 5, 1, 1]],\n",
       " [[1, 0, 3, 3, 3],\n",
       "  [5, 1, 2, 2, 4],\n",
       "  [1, 5, 1, 2, 4],\n",
       "  [4, 4, 1, 1, 1],\n",
       "  [4, 4, 1, 1, 1]],\n",
       " [[1, 2, 0, 3, 3],\n",
       "  [1, 2, 0, 2, 4],\n",
       "  [1, 2, 0, 2, 4],\n",
       "  [4, 2, 0, 0, 1],\n",
       "  [8, 4, 1, 1, 0]],\n",
       " [[1, 0, 3, 0, 0],\n",
       "  [1, 1, 0, 2, 4],\n",
       "  [0, 0, 1, 2, 4],\n",
       "  [4, 0, 1, 0, 1],\n",
       "  [0, 0, 1, 0, 1]]]"
      ]
     },
     "execution_count": 2,
     "metadata": {},
     "output_type": "execute_result"
    }
   ],
   "source": [
    "cross"
   ]
  },
  {
   "cell_type": "code",
   "execution_count": 6,
   "id": "e18665b2",
   "metadata": {},
   "outputs": [],
   "source": [
    "cross = [[[3, 0, 1, 1, 8],\n",
    "         [5, 0, 4, 5, 4],\n",
    "         [1, 5, 0, 5, 1],\n",
    "         [1, 2, 1, 0, 1],\n",
    "         [0, 2, 5, 1, 1]],\n",
    "        [[1, 2, 0, 3, 3],\n",
    "         [1, 2, 0, 2, 4],\n",
    "         [1, 2, 0, 2, 4],\n",
    "         [4, 2, 0, 0, 1],\n",
    "         [8, 4, 1, 1, 0]]]"
   ]
  },
  {
   "cell_type": "code",
   "execution_count": 8,
   "id": "1933b2c3",
   "metadata": {},
   "outputs": [
    {
     "data": {
      "text/plain": [
       "[[[3, 0, 1, 1, 8],\n",
       "  [5, 0, 4, 5, 4],\n",
       "  [1, 5, 0, 5, 1],\n",
       "  [1, 2, 1, 0, 1],\n",
       "  [0, 2, 5, 1, 1]],\n",
       " [[1, 2, 0, 3, 3],\n",
       "  [1, 2, 0, 2, 4],\n",
       "  [1, 2, 0, 2, 4],\n",
       "  [4, 2, 0, 0, 1],\n",
       "  [8, 4, 1, 1, 0]]]"
      ]
     },
     "execution_count": 8,
     "metadata": {},
     "output_type": "execute_result"
    }
   ],
   "source": [
    "cross"
   ]
  },
  {
   "cell_type": "code",
   "execution_count": 10,
   "id": "442b3fe7",
   "metadata": {},
   "outputs": [
    {
     "data": {
      "text/plain": [
       "[[3, 0, 1, 1, 8],\n",
       " [5, 0, 4, 5, 4],\n",
       " [1, 5, 0, 5, 1],\n",
       " [1, 2, 1, 0, 1],\n",
       " [0, 2, 5, 1, 1],\n",
       " [1, 2, 0, 3, 3],\n",
       " [1, 2, 0, 2, 4],\n",
       " [1, 2, 0, 2, 4],\n",
       " [4, 2, 0, 0, 1],\n",
       " [8, 4, 1, 1, 0]]"
      ]
     },
     "execution_count": 10,
     "metadata": {},
     "output_type": "execute_result"
    }
   ],
   "source": [
    "cross_ = cross[0] + cross[1]\n",
    "cross_"
   ]
  },
  {
   "cell_type": "code",
   "execution_count": 11,
   "id": "1595f0af",
   "metadata": {},
   "outputs": [
    {
     "data": {
      "text/plain": [
       "8"
      ]
     },
     "execution_count": 11,
     "metadata": {},
     "output_type": "execute_result"
    }
   ],
   "source": [
    "cross_[0][4]"
   ]
  },
  {
   "cell_type": "code",
   "execution_count": 13,
   "id": "e5fce842",
   "metadata": {},
   "outputs": [
    {
     "name": "stdout",
     "output_type": "stream",
     "text": [
      "4\n",
      "3\n",
      "2\n",
      "1\n",
      "0\n"
     ]
    }
   ],
   "source": [
    "for i in range(4, -1, -1):\n",
    "    print(i)"
   ]
  },
  {
   "cell_type": "code",
   "execution_count": 15,
   "id": "48b04bd7",
   "metadata": {},
   "outputs": [
    {
     "name": "stdout",
     "output_type": "stream",
     "text": [
      "0 4 8\n",
      "0 3 1\n",
      "0 2 1\n",
      "0 1 0\n",
      "0 0 3\n",
      "1 4 4\n",
      "1 3 5\n",
      "1 2 4\n",
      "1 1 0\n",
      "1 0 5\n",
      "2 4 1\n",
      "2 3 5\n",
      "2 2 0\n",
      "2 1 5\n",
      "2 0 1\n",
      "3 4 1\n",
      "3 3 0\n",
      "3 2 1\n",
      "3 1 2\n",
      "3 0 1\n",
      "4 4 1\n",
      "4 3 1\n",
      "4 2 5\n",
      "4 1 2\n",
      "4 0 0\n",
      "5 4 3\n",
      "5 3 3\n",
      "5 2 0\n",
      "5 1 2\n",
      "5 0 1\n",
      "6 4 4\n",
      "6 3 2\n",
      "6 2 0\n",
      "6 1 2\n",
      "6 0 1\n",
      "7 4 4\n",
      "7 3 2\n",
      "7 2 0\n",
      "7 1 2\n",
      "7 0 1\n",
      "8 4 1\n",
      "8 3 0\n",
      "8 2 0\n",
      "8 1 2\n",
      "8 0 4\n",
      "9 4 0\n",
      "9 3 1\n",
      "9 2 1\n",
      "9 1 4\n",
      "9 0 8\n"
     ]
    }
   ],
   "source": [
    "for i in range(len(cross_)):\n",
    "    for j in range(4, -1, -1):\n",
    "        print(i, j, cross_[i][j])"
   ]
  },
  {
   "cell_type": "code",
   "execution_count": 18,
   "id": "7403ab20",
   "metadata": {},
   "outputs": [
    {
     "data": {
      "text/plain": [
       "[[0, 0, 0, 0, 0],\n",
       " [0, 0, 0, 0, 0],\n",
       " [0, 0, 0, 0, 0],\n",
       " [0, 0, 0, 0, 0],\n",
       " [0, 0, 0, 0, 0]]"
      ]
     },
     "execution_count": 18,
     "metadata": {},
     "output_type": "execute_result"
    }
   ],
   "source": [
    "c = [[3, 0, 1, 1, 8],\n",
    "     [5, 0, 4, 5, 4],\n",
    "     [1, 5, 0, 5, 1],\n",
    "     [1, 2, 1, 0, 1],\n",
    "     [0, 2, 5, 1, 1]]\n",
    "\n",
    "가중치누적값 = [[0 for i in range(5)] for i in range(5)]\n",
    "가중치누적값"
   ]
  },
  {
   "cell_type": "code",
   "execution_count": 24,
   "id": "58838f7e",
   "metadata": {},
   "outputs": [
    {
     "data": {
      "text/plain": [
       "[[[0, 0], [0, 0], [0, 1], [0, 2], [0, 3]],\n",
       " [[0, 0], [0, 1], [1, 1], [0, 3], [1, 3]],\n",
       " [[1, 0], [1, 1], [1, 2], [2, 2], [2, 3]],\n",
       " [[2, 0], [2, 1], [2, 2], [3, 2], [3, 3]],\n",
       " [[3, 0], [4, 0], [3, 2], [3, 3], [4, 3]]]"
      ]
     },
     "execution_count": 24,
     "metadata": {},
     "output_type": "execute_result"
    }
   ],
   "source": [
    "c = [[3, 0, 1, 1, 8],\n",
    "     [5, 0, 4, 5, 4],\n",
    "     [1, 5, 0, 5, 1],\n",
    "     [1, 2, 1, 0, 1],\n",
    "     [0, 2, 5, 1, 1]]\n",
    "\n",
    "가중치누적값 = [[0 for i in range(5)] for i in range(5)]\n",
    "좌표저장 = [[[0,0] for i in range(5)] for j in range(5)]\n",
    "\n",
    "for i in range(5):\n",
    "    for j in range(5):\n",
    "        if i == 0 and j == 0:\n",
    "            가중치누적값[0][0] = c[0][0]\n",
    "            좌표저장[i][j] = [i, j]\n",
    "        elif i == 0:\n",
    "            가중치누적값[i][j] = 가중치누적값[i][j-1] + c[i][j]\n",
    "            좌표저장[i][j] = [i, j-1]\n",
    "        elif j == 0:\n",
    "            가중치누적값[i][j] = 가중치누적값[i-1][j] + c[i][j]\n",
    "            좌표저장[i][j] = [i-1, j]\n",
    "        else:\n",
    "#             가중치누적값[i][j] = min(가중치누적값[i][j-1], 가중치누적값[i-1][j])+ c[i][j]\n",
    "             if 가중치누적값[i][j-1] > 가중치누적값[i-1][j]:\n",
    "                가중치누적값[i][j] = 가중치누적값[i-1][j] + c[i][j]\n",
    "                좌표저장[i][j] = [i-1, j]\n",
    "             else:\n",
    "                가중치누적값[i][j] = 가중치누적값[i][j-1] + c[i][j]\n",
    "                좌표저장[i][j] = [i, j-1]\n",
    "                \n",
    "좌표저장"
   ]
  },
  {
   "cell_type": "code",
   "execution_count": 25,
   "id": "28216cd4",
   "metadata": {},
   "outputs": [
    {
     "data": {
      "text/plain": [
       "[[3, 0, 1, 1, 8],\n",
       " [5, 0, 4, 5, 4],\n",
       " [1, 5, 0, 5, 1],\n",
       " [1, 2, 1, 0, 1],\n",
       " [0, 2, 5, 1, 1],\n",
       " [1, 2, 0, 3, 3],\n",
       " [1, 2, 0, 2, 4],\n",
       " [1, 2, 0, 2, 4],\n",
       " [4, 2, 0, 0, 1],\n",
       " [8, 4, 1, 1, 0]]"
      ]
     },
     "execution_count": 25,
     "metadata": {},
     "output_type": "execute_result"
    }
   ],
   "source": [
    "cross_"
   ]
  },
  {
   "cell_type": "code",
   "execution_count": 32,
   "id": "127c3a1b",
   "metadata": {},
   "outputs": [],
   "source": [
    "가중치누적값 = [[0 for i in range(5)] for i in range(len(cross_))]\n",
    "좌표저장 = [[[0,0] for i in range(5)] for j in range(len(cross_))]\n",
    "\n",
    "for i in range(len(cross_)):\n",
    "    for j in range(4, -1, -1):\n",
    "        if i == 0 and j == 4:\n",
    "            가중치누적값[0][4] = c[0][4]\n",
    "            좌표저장[i][j] = [99, 99]\n",
    "        elif i == 0:\n",
    "            가중치누적값[i][j] = 가중치누적값[i][j+1] + cross_[i][j]\n",
    "            좌표저장[i][j] = [i, j+1]\n",
    "        elif j == 4:\n",
    "            가중치누적값[i][j] = 가중치누적값[i-1][j] + cross_[i][j]\n",
    "            좌표저장[i][j] = [i-1, j]\n",
    "        else:\n",
    "#             가중치누적값[i][j] = min(가중치누적값[i][j-1], 가중치누적값[i-1][j])+ c[i][j]\n",
    "             if 가중치누적값[i][j+1] > 가중치누적값[i-1][j]:\n",
    "                가중치누적값[i][j] = 가중치누적값[i-1][j] + cross_[i][j]\n",
    "                좌표저장[i][j] = [i-1, j]\n",
    "             else:\n",
    "                가중치누적값[i][j] = 가중치누적값[i][j-1] + cross_[i][j]\n",
    "                좌표저장[i][j] = [i, j+1]"
   ]
  },
  {
   "cell_type": "code",
   "execution_count": 33,
   "id": "229fd167",
   "metadata": {},
   "outputs": [
    {
     "data": {
      "text/plain": [
       "[[13, 10, 10, 9, 8],\n",
       " [17, 10, 14, 14, 12],\n",
       " [14, 5, 0, 5, 13],\n",
       " [15, 2, 1, 5, 14],\n",
       " [15, 4, 6, 6, 15],\n",
       " [19, 6, 6, 9, 18],\n",
       " [23, 2, 6, 11, 22],\n",
       " [27, 4, 6, 13, 26],\n",
       " [31, 6, 6, 13, 27],\n",
       " [35, 10, 7, 14, 27]]"
      ]
     },
     "execution_count": 33,
     "metadata": {},
     "output_type": "execute_result"
    }
   ],
   "source": [
    "가중치누적값"
   ]
  },
  {
   "cell_type": "code",
   "execution_count": 34,
   "id": "b962b91b",
   "metadata": {},
   "outputs": [
    {
     "data": {
      "text/plain": [
       "[[[0, 1], [0, 2], [0, 3], [0, 4], [99, 99]],\n",
       " [[1, 1], [0, 1], [0, 2], [0, 3], [0, 4]],\n",
       " [[2, 1], [2, 2], [2, 3], [2, 4], [1, 4]],\n",
       " [[3, 1], [3, 2], [2, 2], [2, 3], [2, 4]],\n",
       " [[4, 1], [3, 1], [3, 2], [3, 3], [3, 4]],\n",
       " [[5, 1], [4, 1], [4, 2], [4, 3], [4, 4]],\n",
       " [[6, 1], [6, 2], [5, 2], [5, 3], [5, 4]],\n",
       " [[7, 1], [6, 1], [6, 2], [6, 3], [6, 4]],\n",
       " [[8, 1], [7, 1], [7, 2], [7, 3], [7, 4]],\n",
       " [[9, 1], [8, 1], [8, 2], [8, 3], [8, 4]]]"
      ]
     },
     "execution_count": 34,
     "metadata": {},
     "output_type": "execute_result"
    }
   ],
   "source": [
    "좌표저장"
   ]
  },
  {
   "cell_type": "code",
   "execution_count": 35,
   "id": "dc770bd1",
   "metadata": {},
   "outputs": [
    {
     "data": {
      "text/plain": [
       "[[3, 0, 1, 1, 8],\n",
       " [5, 0, 4, 5, 4],\n",
       " [1, 5, 0, 5, 1],\n",
       " [1, 2, 1, 0, 1],\n",
       " [0, 2, 5, 1, 1],\n",
       " [1, 2, 0, 3, 3],\n",
       " [1, 2, 0, 2, 4],\n",
       " [1, 2, 0, 2, 4],\n",
       " [4, 2, 0, 0, 1],\n",
       " [8, 4, 1, 1, 0]]"
      ]
     },
     "execution_count": 35,
     "metadata": {},
     "output_type": "execute_result"
    }
   ],
   "source": [
    "cross_"
   ]
  },
  {
   "cell_type": "code",
   "execution_count": 43,
   "id": "e0ae2956",
   "metadata": {},
   "outputs": [
    {
     "data": {
      "text/plain": [
       "[[9, 1], [8, 1], [8, 2], [8, 3], [8, 4]]"
      ]
     },
     "execution_count": 43,
     "metadata": {},
     "output_type": "execute_result"
    }
   ],
   "source": [
    "좌표저장[len(cross_)-1]"
   ]
  },
  {
   "cell_type": "code",
   "execution_count": 36,
   "id": "aaa36684",
   "metadata": {
    "scrolled": true
   },
   "outputs": [
    {
     "data": {
      "text/plain": [
       "[9, 1]"
      ]
     },
     "execution_count": 36,
     "metadata": {},
     "output_type": "execute_result"
    }
   ],
   "source": [
    "좌표저장[len(cross_)-1][0]"
   ]
  },
  {
   "cell_type": "code",
   "execution_count": 46,
   "id": "56327704",
   "metadata": {},
   "outputs": [
    {
     "name": "stdout",
     "output_type": "stream",
     "text": [
      "9 1\n",
      "8 1\n",
      "7 1\n",
      "6 1\n",
      "6 2\n",
      "5 2\n",
      "4 2\n",
      "3 2\n",
      "2 2\n",
      "2 3\n",
      "2 4\n",
      "1 4\n",
      "0 4\n"
     ]
    }
   ],
   "source": [
    "k = 0\n",
    "while True:\n",
    "    if k == 0:\n",
    "        i, j = 좌표저장[len(cross_)-1][0]\n",
    "    else:\n",
    "        i, j = 좌표저장[i][j]\n",
    "    if i == 99 and j == 99:\n",
    "        break\n",
    "    k += 1\n",
    "    print(i,j)"
   ]
  },
  {
   "cell_type": "code",
   "execution_count": null,
   "id": "2460c554",
   "metadata": {},
   "outputs": [],
   "source": []
  }
 ],
 "metadata": {
  "kernelspec": {
   "display_name": "Python 3 (ipykernel)",
   "language": "python",
   "name": "python3"
  },
  "language_info": {
   "codemirror_mode": {
    "name": "ipython",
    "version": 3
   },
   "file_extension": ".py",
   "mimetype": "text/x-python",
   "name": "python",
   "nbconvert_exporter": "python",
   "pygments_lexer": "ipython3",
   "version": "3.9.12"
  }
 },
 "nbformat": 4,
 "nbformat_minor": 5
}
