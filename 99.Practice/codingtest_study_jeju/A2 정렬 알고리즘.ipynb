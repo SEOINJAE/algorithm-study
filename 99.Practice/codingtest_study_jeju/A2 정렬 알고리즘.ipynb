{
 "cells": [
  {
   "cell_type": "markdown",
   "id": "c9c8cab3",
   "metadata": {},
   "source": [
    "# 정렬 알고리즘"
   ]
  },
  {
   "cell_type": "markdown",
   "id": "9974de0a",
   "metadata": {},
   "source": [
    "## 선택정렬"
   ]
  },
  {
   "cell_type": "code",
   "execution_count": 5,
   "id": "25d81843",
   "metadata": {},
   "outputs": [
    {
     "name": "stdout",
     "output_type": "stream",
     "text": [
      "[5]\n",
      "[10, 66, 77, 54, 32, 11, 15]\n",
      "----------\n",
      "[5, 10]\n",
      "[66, 77, 54, 32, 11, 15]\n",
      "----------\n",
      "[5, 10, 11]\n",
      "[66, 77, 54, 32, 15]\n",
      "----------\n",
      "[5, 10, 11, 15]\n",
      "[66, 77, 54, 32]\n",
      "----------\n",
      "[5, 10, 11, 15, 32]\n",
      "[66, 77, 54]\n",
      "----------\n",
      "[5, 10, 11, 15, 32, 54]\n",
      "[66, 77]\n",
      "----------\n",
      "[5, 10, 11, 15, 32, 54, 66]\n",
      "[77]\n",
      "----------\n",
      "[5, 10, 11, 15, 32, 54, 66, 77]\n",
      "[]\n",
      "----------\n",
      "최종값\n",
      "[5, 10, 11, 15, 32, 54, 66, 77]\n",
      "[]\n"
     ]
    }
   ],
   "source": [
    "# pop은 index를 반환\n",
    "입력값 = [10, 5, 66, 77, 54, 32, 11, 15]\n",
    "정렬된리스트 = []\n",
    "\n",
    "while 입력값:\n",
    "    정렬된리스트.append(min(입력값))\n",
    "    입력값.pop(입력값.index(min(입력값)))\n",
    "    print(정렬된리스트)\n",
    "    print(입력값)\n",
    "    print('----------')\n",
    "\n",
    "print('최종값')    \n",
    "print(정렬된리스트)\n",
    "print(입력값)    "
   ]
  },
  {
   "cell_type": "code",
   "execution_count": 6,
   "id": "3ed7e06c",
   "metadata": {},
   "outputs": [
    {
     "name": "stdout",
     "output_type": "stream",
     "text": [
      "(5, 1)\n"
     ]
    }
   ],
   "source": [
    "입력값 = [10, 5, 66, 77, 54, 32, 11, 15]\n",
    "\n",
    "def 최솟값(x):\n",
    "    최소 = x[0]\n",
    "    count = 0\n",
    "    for i in x:\n",
    "        if 최소 > i:\n",
    "            최소 = i\n",
    "            index = count\n",
    "        count += 1\n",
    "    return 최소, index\n",
    "\n",
    "print(최솟값(입력값))"
   ]
  },
  {
   "cell_type": "code",
   "execution_count": 4,
   "id": "069da19e",
   "metadata": {},
   "outputs": [
    {
     "name": "stdout",
     "output_type": "stream",
     "text": [
      "8\n"
     ]
    }
   ],
   "source": [
    "입력값2 = [5, 10, 66, 77, 54, 32, 11, 15, 2]\n",
    "\n",
    "def 최솟값_인덱스(l):\n",
    "    비교값 = l[0]\n",
    "    for i in range(len(l)):\n",
    "        if l[i] < 비교값:\n",
    "            인덱스 = i\n",
    "    return 인덱스\n",
    "\n",
    "print(최솟값_인덱스(입력값2))"
   ]
  },
  {
   "cell_type": "markdown",
   "id": "55d76762",
   "metadata": {},
   "source": [
    "## 삽입정렬"
   ]
  },
  {
   "cell_type": "code",
   "execution_count": 11,
   "id": "c238729a",
   "metadata": {},
   "outputs": [
    {
     "name": "stdout",
     "output_type": "stream",
     "text": [
      "[2, 5, 10, 11, 15, 32, 54, 66, 77]\n"
     ]
    }
   ],
   "source": [
    "입력값 = [5, 10, 66, 77, 54, 32, 11, 15, 2]\n",
    "정렬된리스트 = []\n",
    "\n",
    "def 삽입값이_들어갈_인덱스(정렬된리스트, 삽입값):\n",
    "    for i in range(len(정렬된리스트)):\n",
    "        if 삽입값 < 정렬된리스트[i]:\n",
    "            return i\n",
    "    return len(정렬된리스트)\n",
    "\n",
    "while 입력값:\n",
    "    삽입값 = 입력값.pop(0)\n",
    "    인덱스 = 삽입값이_들어갈_인덱스(정렬된리스트, 삽입값)\n",
    "    정렬된리스트.insert(인덱스, 삽입값)\n",
    "\n",
    "print(정렬된리스트)"
   ]
  },
  {
   "cell_type": "markdown",
   "id": "7ffdbb9f",
   "metadata": {},
   "source": [
    "## 병합정렬"
   ]
  },
  {
   "cell_type": "code",
   "execution_count": 12,
   "id": "27f0ba53",
   "metadata": {},
   "outputs": [
    {
     "data": {
      "text/plain": [
       "9"
      ]
     },
     "execution_count": 12,
     "metadata": {},
     "output_type": "execute_result"
    }
   ],
   "source": [
    "입력값 = [5, 10, 66, 77, 54, 32, 11, 15, 2]\n",
    "len(입력값)"
   ]
  },
  {
   "cell_type": "code",
   "execution_count": 15,
   "id": "d0109843",
   "metadata": {},
   "outputs": [
    {
     "name": "stdout",
     "output_type": "stream",
     "text": [
      "그룹_하나 : 그룹_하나 : 그룹_하나 : [5], 그룹_둘 : [10]\n",
      ", 그룹_둘 : 그룹_하나 : [66], 그룹_둘 : [77]\n",
      "\n",
      ", 그룹_둘 : 그룹_하나 : 그룹_하나 : [54], 그룹_둘 : [32]\n",
      ", 그룹_둘 : 그룹_하나 : [11], 그룹_둘 : 그룹_하나 : [15], 그룹_둘 : [2]\n",
      "\n",
      "\n",
      "\n",
      "\n"
     ]
    }
   ],
   "source": [
    "입력값 = [5, 10, 66, 77, 54, 32, 11, 15, 2]\n",
    "\n",
    "def 병합정렬_분할(입력리스트):\n",
    "    입력리스트의길이 = len(입력리스트)\n",
    "    if 입력리스트의길이 <= 1:\n",
    "        return 입력리스트\n",
    "    중간값 = 입력리스트의길이 // 2\n",
    "    그룹_하나 = 병합정렬_분할(입력리스트[:중간값])\n",
    "    그룹_둘 = 병합정렬_분할(입력리스트[중간값:])\n",
    "    \n",
    "    return '그룹_하나 : {}, 그룹_둘 : {}\\n'.format(그룹_하나, 그룹_둘)\n",
    "\n",
    "print(병합정렬_분할(입력값))"
   ]
  },
  {
   "cell_type": "code",
   "execution_count": 17,
   "id": "62c66d6b",
   "metadata": {},
   "outputs": [
    {
     "name": "stdout",
     "output_type": "stream",
     "text": [
      "[2, 5, 10, 11, 15, 32, 54, 66, 77]\n"
     ]
    }
   ],
   "source": [
    "입력값 = [5, 10, 66, 77, 54, 32, 11, 15, 2]\n",
    "\n",
    "def 병합정렬(입력리스트):\n",
    "    입력리스트의길이 = len(입력리스트)\n",
    "    결과값 = []\n",
    "    if 입력리스트의길이 <= 1:\n",
    "        return 입력리스트\n",
    "    중간값 = 입력리스트의길이 // 2\n",
    "    그룹_하나 = 병합정렬(입력리스트[:중간값])\n",
    "    그룹_둘 = 병합정렬(입력리스트[중간값:])\n",
    "    \n",
    "    while 그룹_하나 and 그룹_둘:\n",
    "        if 그룹_하나[0] < 그룹_둘[0]:\n",
    "            결과값.append(그룹_하나.pop(0))\n",
    "        else:\n",
    "            결과값.append(그룹_둘.pop(0))\n",
    "    while 그룹_하나:\n",
    "        결과값.append(그룹_하나.pop(0))\n",
    "    while 그룹_둘:\n",
    "        결과값.append(그룹_둘.pop(0))\n",
    "    \n",
    "    return 결과값\n",
    "\n",
    "print(병합정렬(입력값))"
   ]
  },
  {
   "cell_type": "markdown",
   "id": "dc018b18",
   "metadata": {},
   "source": [
    "## 퀵정렬"
   ]
  },
  {
   "cell_type": "code",
   "execution_count": 18,
   "id": "cca4a6f0",
   "metadata": {},
   "outputs": [
    {
     "data": {
      "text/plain": [
       "[2, 5, 10, 11, 15, 32, 54, 66, 77]"
      ]
     },
     "execution_count": 18,
     "metadata": {},
     "output_type": "execute_result"
    }
   ],
   "source": [
    "def 퀵정렬(입력리스트):\n",
    "    입력리스트의길이 = len(입력리스트)\n",
    "    if 입력리스트의길이 <= 1:\n",
    "        return 입력리스트\n",
    "    \n",
    "    피벗값 = 입력리스트.pop(0)\n",
    "    그룹_하나 = []\n",
    "    그룹_둘 = []\n",
    "    \n",
    "    for i in range(입력리스트의길이-1):\n",
    "        if 입력리스트[i] < 피벗값:\n",
    "            그룹_하나.append(입력리스트[i])\n",
    "        else:\n",
    "            그룹_둘.append(입력리스트[i])\n",
    "    return 퀵정렬(그룹_하나) + [피벗값] + 퀵정렬(그룹_둘)\n",
    "\n",
    "입력값 = [5, 10, 66, 77, 54, 32, 11, 15, 2]\n",
    "퀵정렬(입력값)"
   ]
  },
  {
   "cell_type": "code",
   "execution_count": null,
   "id": "f4d07d3b",
   "metadata": {},
   "outputs": [],
   "source": []
  }
 ],
 "metadata": {
  "kernelspec": {
   "display_name": "Python 3 (ipykernel)",
   "language": "python",
   "name": "python3"
  },
  "language_info": {
   "codemirror_mode": {
    "name": "ipython",
    "version": 3
   },
   "file_extension": ".py",
   "mimetype": "text/x-python",
   "name": "python",
   "nbconvert_exporter": "python",
   "pygments_lexer": "ipython3",
   "version": "3.9.12"
  }
 },
 "nbformat": 4,
 "nbformat_minor": 5
}
