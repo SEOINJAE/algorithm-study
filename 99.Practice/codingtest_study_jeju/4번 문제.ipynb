{
 "cells": [
  {
   "cell_type": "code",
   "execution_count": 33,
   "id": "02ac71cc",
   "metadata": {},
   "outputs": [
    {
     "data": {
      "text/plain": [
       "'5분 3초'"
      ]
     },
     "execution_count": 33,
     "metadata": {},
     "output_type": "execute_result"
    }
   ],
   "source": [
    "동물 = ['척추동물', '어류', '척추동물', '무척추동물', '파충류', '척추동물', '어류', '파충류']\n",
    "\n",
    "\n",
    "def solution(동물, 의자):\n",
    "    의자 = [] * 의자\n",
    "    answer = 0\n",
    "\n",
    "    for i in 동물:\n",
    "        if len(의자) < 3:\n",
    "            # 의자가 비어 있을때 해결\n",
    "            if i in 의자:\n",
    "                히트된페이지 = 의자.pop(의자.index(i))\n",
    "                의자.append(히트된페이지) # 같은 동물이 들어오면 뒤로 보내기\n",
    "                answer += 1\n",
    "            else:\n",
    "                의자.append(i)\n",
    "                answer += 60\n",
    "        else:\n",
    "            # 의자에 자리가 없을때 해결\n",
    "            if i in 의자:\n",
    "                히트된페이지 = 의자.pop(의자.index(i))\n",
    "                의자.append(히트된페이지)\n",
    "                answer += 1\n",
    "            else:\n",
    "                의자.pop(0)\n",
    "                의자.append(i)\n",
    "                answer += 60\n",
    "                \n",
    "    return f'{answer//60}분 {answer%60}초'\n",
    "\n",
    "solution(동물, 3)"
   ]
  },
  {
   "cell_type": "code",
   "execution_count": null,
   "id": "510f711e",
   "metadata": {},
   "outputs": [],
   "source": []
  },
  {
   "cell_type": "code",
   "execution_count": null,
   "id": "f1899029",
   "metadata": {},
   "outputs": [],
   "source": []
  }
 ],
 "metadata": {
  "kernelspec": {
   "display_name": "Python 3 (ipykernel)",
   "language": "python",
   "name": "python3"
  },
  "language_info": {
   "codemirror_mode": {
    "name": "ipython",
    "version": 3
   },
   "file_extension": ".py",
   "mimetype": "text/x-python",
   "name": "python",
   "nbconvert_exporter": "python",
   "pygments_lexer": "ipython3",
   "version": "3.10.9"
  }
 },
 "nbformat": 4,
 "nbformat_minor": 5
}
