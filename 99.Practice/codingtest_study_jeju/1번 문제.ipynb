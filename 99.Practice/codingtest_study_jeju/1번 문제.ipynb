{
 "cells": [
  {
   "cell_type": "markdown",
   "id": "a13736e3",
   "metadata": {},
   "source": [
    "# 1번 문제 암호해독"
   ]
  },
  {
   "cell_type": "markdown",
   "id": "b7954d93",
   "metadata": {},
   "source": [
    "<!-- 섬으로 향하라!\n",
    "\n",
    "'   + -- + - + -   '\n",
    "'   + --- + - +   '\n",
    "'   + -- + - + -   '\n",
    "'   + - + - + - +   '\n",
    "\n",
    "해(1)와 달(0),\n",
    "Code의 세상 안으로!(En-Coding) -->"
   ]
  },
  {
   "cell_type": "code",
   "execution_count": 74,
   "id": "77fa7d5b",
   "metadata": {},
   "outputs": [
    {
     "data": {
      "text/plain": [
       "\"\\n섬으로 향하라!\\n\\n'   + -- + - + -   '\\n'   + --- + - +   '\\n'   + -- + - + -   '\\n'   + - + - + - +   '\\n\\n해(1)와 달(0),\\nCode의 세상 안으로!(En-Coding)\\n\""
      ]
     },
     "execution_count": 74,
     "metadata": {},
     "output_type": "execute_result"
    }
   ],
   "source": [
    "'''\n",
    "섬으로 향하라!\n",
    "\n",
    "'   + -- + - + -   '\n",
    "'   + --- + - +   '\n",
    "'   + -- + - + -   '\n",
    "'   + - + - + - +   '\n",
    "\n",
    "해(1)와 달(0),\n",
    "Code의 세상 안으로!(En-Coding)\n",
    "'''"
   ]
  },
  {
   "cell_type": "code",
   "execution_count": 9,
   "id": "9d99fbc6",
   "metadata": {},
   "outputs": [],
   "source": [
    "s = ['   + -- + - + -   ',\n",
    "    '   + --- + - +   ',\n",
    "    '   + -- + - + -   ',\n",
    "    '   + - + - + - +   ']"
   ]
  },
  {
   "cell_type": "code",
   "execution_count": 13,
   "id": "7e8c997a",
   "metadata": {},
   "outputs": [
    {
     "name": "stdout",
     "output_type": "stream",
     "text": [
      "74\n",
      "69\n",
      "74\n",
      "85\n"
     ]
    }
   ],
   "source": [
    "for i in s:\n",
    "    print(int(i.strip().replace(' ', '').replace('+','1').replace('-','0'),2))"
   ]
  },
  {
   "cell_type": "code",
   "execution_count": 14,
   "id": "d8c8eba4",
   "metadata": {},
   "outputs": [
    {
     "name": "stdout",
     "output_type": "stream",
     "text": [
      "J\n",
      "E\n",
      "J\n",
      "U\n"
     ]
    }
   ],
   "source": [
    "#ord() : 문자 -> 숫자\n",
    "#chr() : 숫자 -> 문자\n",
    "\n",
    "for i in s:\n",
    "    print(chr(int(i.strip().replace(' ', '').replace('+','1').replace('-','0'),2)))"
   ]
  },
  {
   "cell_type": "code",
   "execution_count": 15,
   "id": "a7dc27ff",
   "metadata": {},
   "outputs": [],
   "source": [
    "result = []\n",
    "for i in s:\n",
    "    result.append(chr(int(i.strip().replace(' ', '').replace('+','1').replace('-','0'),2)))"
   ]
  },
  {
   "cell_type": "code",
   "execution_count": 24,
   "id": "0fc41426",
   "metadata": {},
   "outputs": [
    {
     "data": {
      "text/plain": [
       "'JEJU'"
      ]
     },
     "execution_count": 24,
     "metadata": {},
     "output_type": "execute_result"
    }
   ],
   "source": [
    "''.join(result)"
   ]
  },
  {
   "cell_type": "markdown",
   "id": "c04d9a71",
   "metadata": {},
   "source": [
    "## 리스트 컴프리헨션을 활용한 풀이"
   ]
  },
  {
   "cell_type": "code",
   "execution_count": 30,
   "id": "0dc83e54",
   "metadata": {},
   "outputs": [],
   "source": [
    "s = [i.strip().replace(' ', '').replace('+','1').replace('-','0') for i in s]"
   ]
  },
  {
   "cell_type": "code",
   "execution_count": 31,
   "id": "bd1a1a53",
   "metadata": {},
   "outputs": [
    {
     "data": {
      "text/plain": [
       "['1001010', '1000101', '1001010', '1010101']"
      ]
     },
     "execution_count": 31,
     "metadata": {},
     "output_type": "execute_result"
    }
   ],
   "source": [
    "s"
   ]
  },
  {
   "cell_type": "code",
   "execution_count": 45,
   "id": "ea1b6ce6",
   "metadata": {},
   "outputs": [],
   "source": [
    "result2 = ''.join(list(map(lambda x : chr(int(x,2)), s)))"
   ]
  },
  {
   "cell_type": "code",
   "execution_count": 46,
   "id": "7cf60580",
   "metadata": {},
   "outputs": [
    {
     "data": {
      "text/plain": [
       "'JEJU'"
      ]
     },
     "execution_count": 46,
     "metadata": {},
     "output_type": "execute_result"
    }
   ],
   "source": [
    "result2"
   ]
  },
  {
   "cell_type": "markdown",
   "id": "ee5d51ab",
   "metadata": {},
   "source": [
    "## 함수정의 방식"
   ]
  },
  {
   "cell_type": "code",
   "execution_count": 70,
   "id": "c109655e",
   "metadata": {},
   "outputs": [],
   "source": [
    "def f(x):\n",
    "    return chr(int(x, 2))"
   ]
  },
  {
   "cell_type": "code",
   "execution_count": 71,
   "id": "456170a9",
   "metadata": {},
   "outputs": [
    {
     "data": {
      "text/plain": [
       "'JEJU'"
      ]
     },
     "execution_count": 71,
     "metadata": {},
     "output_type": "execute_result"
    }
   ],
   "source": [
    "''.join(list(map(f,s)))"
   ]
  }
 ],
 "metadata": {
  "kernelspec": {
   "display_name": "Python 3 (ipykernel)",
   "language": "python",
   "name": "python3"
  },
  "language_info": {
   "codemirror_mode": {
    "name": "ipython",
    "version": 3
   },
   "file_extension": ".py",
   "mimetype": "text/x-python",
   "name": "python",
   "nbconvert_exporter": "python",
   "pygments_lexer": "ipython3",
   "version": "3.10.9"
  }
 },
 "nbformat": 4,
 "nbformat_minor": 5
}
